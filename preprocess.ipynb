{
  "nbformat": 4,
  "nbformat_minor": 0,
  "metadata": {
    "colab": {
      "provenance": [],
      "toc_visible": true
    },
    "kernelspec": {
      "name": "python3",
      "display_name": "Python 3"
    },
    "language_info": {
      "name": "python"
    }
  },
  "cells": [
    {
      "cell_type": "markdown",
      "source": [
        "# Packages and Imports"
      ],
      "metadata": {
        "id": "RBi-4XlPMq3g"
      }
    },
    {
      "cell_type": "code",
      "source": [
        "from google.colab import drive\n",
        "drive.mount('/content/gdrive')"
      ],
      "metadata": {
        "colab": {
          "base_uri": "https://localhost:8080/"
        },
        "id": "14T3Ns6b87J4",
        "outputId": "b5562708-a388-4ae9-e120-c1e7643126a9"
      },
      "execution_count": null,
      "outputs": [
        {
          "output_type": "stream",
          "name": "stdout",
          "text": [
            "Mounted at /content/gdrive\n"
          ]
        }
      ]
    },
    {
      "cell_type": "code",
      "source": [
        "!pip install pydicom\n",
        "!pip install nipype\n",
        "!pip install dcm2niix\n",
        "!pip install nibabel\n",
        "!pip install pycox\n",
        "!pip install torchtuples\n",
        "!pip install lifelines\n"
      ],
      "metadata": {
        "colab": {
          "base_uri": "https://localhost:8080/"
        },
        "id": "LkZs4RV0ovup",
        "outputId": "10d64aba-13e8-4dea-9758-5db6df06bb9c"
      },
      "execution_count": null,
      "outputs": [
        {
          "output_type": "stream",
          "name": "stdout",
          "text": [
            "Looking in indexes: https://pypi.org/simple, https://us-python.pkg.dev/colab-wheels/public/simple/\n",
            "Collecting pydicom\n",
            "  Downloading pydicom-2.3.1-py3-none-any.whl (2.0 MB)\n",
            "\u001b[K     |████████████████████████████████| 2.0 MB 4.4 MB/s \n",
            "\u001b[?25hInstalling collected packages: pydicom\n",
            "Successfully installed pydicom-2.3.1\n",
            "Looking in indexes: https://pypi.org/simple, https://us-python.pkg.dev/colab-wheels/public/simple/\n",
            "Collecting nipype\n",
            "  Downloading nipype-1.8.5-py3-none-any.whl (3.2 MB)\n",
            "\u001b[K     |████████████████████████████████| 3.2 MB 5.0 MB/s \n",
            "\u001b[?25hRequirement already satisfied: numpy>=1.17 in /usr/local/lib/python3.8/dist-packages (from nipype) (1.21.6)\n",
            "Collecting traits!=5.0,<6.4,>=4.6\n",
            "  Downloading traits-6.3.2-cp38-cp38-manylinux_2_5_x86_64.manylinux1_x86_64.manylinux_2_12_x86_64.manylinux2010_x86_64.whl (5.1 MB)\n",
            "\u001b[K     |████████████████████████████████| 5.1 MB 29.5 MB/s \n",
            "\u001b[?25hCollecting simplejson>=3.8.0\n",
            "  Downloading simplejson-3.18.0-cp38-cp38-manylinux_2_5_x86_64.manylinux1_x86_64.manylinux_2_12_x86_64.manylinux2010_x86_64.whl (139 kB)\n",
            "\u001b[K     |████████████████████████████████| 139 kB 48.0 MB/s \n",
            "\u001b[?25hRequirement already satisfied: click>=6.6.0 in /usr/local/lib/python3.8/dist-packages (from nipype) (7.1.2)\n",
            "Requirement already satisfied: scipy>=0.14 in /usr/local/lib/python3.8/dist-packages (from nipype) (1.7.3)\n",
            "Collecting looseversion\n",
            "  Downloading looseversion-1.0.2-py3-none-any.whl (6.4 kB)\n",
            "Requirement already satisfied: packaging in /usr/local/lib/python3.8/dist-packages (from nipype) (21.3)\n",
            "Requirement already satisfied: pydot>=1.2.3 in /usr/local/lib/python3.8/dist-packages (from nipype) (1.3.0)\n",
            "Requirement already satisfied: python-dateutil>=2.2 in /usr/local/lib/python3.8/dist-packages (from nipype) (2.8.2)\n",
            "Requirement already satisfied: filelock>=3.0.0 in /usr/local/lib/python3.8/dist-packages (from nipype) (3.8.2)\n",
            "Collecting prov>=1.5.2\n",
            "  Downloading prov-2.0.0-py3-none-any.whl (421 kB)\n",
            "\u001b[K     |████████████████████████████████| 421 kB 50.7 MB/s \n",
            "\u001b[?25hCollecting rdflib>=5.0.0\n",
            "  Downloading rdflib-6.2.0-py3-none-any.whl (500 kB)\n",
            "\u001b[K     |████████████████████████████████| 500 kB 51.2 MB/s \n",
            "\u001b[?25hRequirement already satisfied: networkx>=2.0 in /usr/local/lib/python3.8/dist-packages (from nipype) (2.8.8)\n",
            "Collecting etelemetry>=0.2.0\n",
            "  Downloading etelemetry-0.3.0-py3-none-any.whl (6.3 kB)\n",
            "Requirement already satisfied: nibabel>=2.1.0 in /usr/local/lib/python3.8/dist-packages (from nipype) (3.0.2)\n",
            "Requirement already satisfied: requests in /usr/local/lib/python3.8/dist-packages (from etelemetry>=0.2.0->nipype) (2.23.0)\n",
            "Collecting ci-info>=0.2\n",
            "  Downloading ci_info-0.3.0-py3-none-any.whl (7.8 kB)\n",
            "Requirement already satisfied: lxml>=3.3.5 in /usr/local/lib/python3.8/dist-packages (from prov>=1.5.2->nipype) (4.9.2)\n",
            "Requirement already satisfied: pyparsing>=2.1.4 in /usr/local/lib/python3.8/dist-packages (from pydot>=1.2.3->nipype) (3.0.9)\n",
            "Requirement already satisfied: six>=1.5 in /usr/local/lib/python3.8/dist-packages (from python-dateutil>=2.2->nipype) (1.15.0)\n",
            "Requirement already satisfied: setuptools in /usr/local/lib/python3.8/dist-packages (from rdflib>=5.0.0->nipype) (57.4.0)\n",
            "Collecting isodate\n",
            "  Downloading isodate-0.6.1-py2.py3-none-any.whl (41 kB)\n",
            "\u001b[K     |████████████████████████████████| 41 kB 525 kB/s \n",
            "\u001b[?25hRequirement already satisfied: chardet<4,>=3.0.2 in /usr/local/lib/python3.8/dist-packages (from requests->etelemetry>=0.2.0->nipype) (3.0.4)\n",
            "Requirement already satisfied: certifi>=2017.4.17 in /usr/local/lib/python3.8/dist-packages (from requests->etelemetry>=0.2.0->nipype) (2022.12.7)\n",
            "Requirement already satisfied: urllib3!=1.25.0,!=1.25.1,<1.26,>=1.21.1 in /usr/local/lib/python3.8/dist-packages (from requests->etelemetry>=0.2.0->nipype) (1.24.3)\n",
            "Requirement already satisfied: idna<3,>=2.5 in /usr/local/lib/python3.8/dist-packages (from requests->etelemetry>=0.2.0->nipype) (2.10)\n",
            "Installing collected packages: isodate, rdflib, ci-info, traits, simplejson, prov, looseversion, etelemetry, nipype\n",
            "Successfully installed ci-info-0.3.0 etelemetry-0.3.0 isodate-0.6.1 looseversion-1.0.2 nipype-1.8.5 prov-2.0.0 rdflib-6.2.0 simplejson-3.18.0 traits-6.3.2\n",
            "Looking in indexes: https://pypi.org/simple, https://us-python.pkg.dev/colab-wheels/public/simple/\n",
            "Collecting dcm2niix\n",
            "  Downloading dcm2niix-1.0.20220715.tar.gz (451 kB)\n",
            "\u001b[K     |████████████████████████████████| 451 kB 4.5 MB/s \n",
            "\u001b[?25h  Installing build dependencies ... \u001b[?25l\u001b[?25hdone\n",
            "  Getting requirements to build wheel ... \u001b[?25l\u001b[?25hdone\n",
            "    Preparing wheel metadata ... \u001b[?25l\u001b[?25hdone\n",
            "Collecting miutil[web]\n",
            "  Downloading miutil-0.10.1-py2.py3-none-any.whl (18 kB)\n",
            "Requirement already satisfied: tqdm>=4.40.0 in /usr/local/lib/python3.8/dist-packages (from miutil[web]->dcm2niix) (4.64.1)\n",
            "Requirement already satisfied: requests in /usr/local/lib/python3.8/dist-packages (from miutil[web]->dcm2niix) (2.23.0)\n",
            "Requirement already satisfied: chardet<4,>=3.0.2 in /usr/local/lib/python3.8/dist-packages (from requests->miutil[web]->dcm2niix) (3.0.4)\n",
            "Requirement already satisfied: certifi>=2017.4.17 in /usr/local/lib/python3.8/dist-packages (from requests->miutil[web]->dcm2niix) (2022.12.7)\n",
            "Requirement already satisfied: urllib3!=1.25.0,!=1.25.1,<1.26,>=1.21.1 in /usr/local/lib/python3.8/dist-packages (from requests->miutil[web]->dcm2niix) (1.24.3)\n",
            "Requirement already satisfied: idna<3,>=2.5 in /usr/local/lib/python3.8/dist-packages (from requests->miutil[web]->dcm2niix) (2.10)\n",
            "Building wheels for collected packages: dcm2niix\n",
            "  Building wheel for dcm2niix (PEP 517) ... \u001b[?25l\u001b[?25hdone\n",
            "  Created wheel for dcm2niix: filename=dcm2niix-1.0.20220715-cp38-cp38-linux_x86_64.whl size=601060 sha256=fa2421be96648c7c9f29e77e094c115574b12528fc6e132decd52902abc4fe77\n",
            "  Stored in directory: /root/.cache/pip/wheels/6e/ad/be/de4334a6bec64465e158e35614ccbff0fbd9080f684c1daace\n",
            "Successfully built dcm2niix\n",
            "Installing collected packages: miutil, dcm2niix\n",
            "Successfully installed dcm2niix-1.0.20220715 miutil-0.10.1\n",
            "Looking in indexes: https://pypi.org/simple, https://us-python.pkg.dev/colab-wheels/public/simple/\n",
            "Requirement already satisfied: nibabel in /usr/local/lib/python3.8/dist-packages (3.0.2)\n",
            "Requirement already satisfied: numpy>=1.12 in /usr/local/lib/python3.8/dist-packages (from nibabel) (1.21.6)\n",
            "Looking in indexes: https://pypi.org/simple, https://us-python.pkg.dev/colab-wheels/public/simple/\n",
            "Collecting pycox\n",
            "  Downloading pycox-0.2.3-py3-none-any.whl (73 kB)\n",
            "\u001b[K     |████████████████████████████████| 73 kB 1.6 MB/s \n",
            "\u001b[?25hRequirement already satisfied: feather-format>=0.4.0 in /usr/local/lib/python3.8/dist-packages (from pycox) (0.4.1)\n",
            "Requirement already satisfied: numba>=0.44 in /usr/local/lib/python3.8/dist-packages (from pycox) (0.56.4)\n",
            "Collecting torchtuples>=0.2.0\n",
            "  Downloading torchtuples-0.2.2-py3-none-any.whl (41 kB)\n",
            "\u001b[K     |████████████████████████████████| 41 kB 660 kB/s \n",
            "\u001b[?25hRequirement already satisfied: requests>=2.22.0 in /usr/local/lib/python3.8/dist-packages (from pycox) (2.23.0)\n",
            "Requirement already satisfied: scikit-learn>=0.21.2 in /usr/local/lib/python3.8/dist-packages (from pycox) (1.0.2)\n",
            "Collecting py7zr>=0.11.3\n",
            "  Downloading py7zr-0.20.2-py3-none-any.whl (65 kB)\n",
            "\u001b[K     |████████████████████████████████| 65 kB 3.7 MB/s \n",
            "\u001b[?25hRequirement already satisfied: h5py>=2.9.0 in /usr/local/lib/python3.8/dist-packages (from pycox) (3.1.0)\n",
            "Requirement already satisfied: pyarrow>=0.4.0 in /usr/local/lib/python3.8/dist-packages (from feather-format>=0.4.0->pycox) (9.0.0)\n",
            "Requirement already satisfied: numpy>=1.17.5 in /usr/local/lib/python3.8/dist-packages (from h5py>=2.9.0->pycox) (1.21.6)\n",
            "Requirement already satisfied: setuptools in /usr/local/lib/python3.8/dist-packages (from numba>=0.44->pycox) (57.4.0)\n",
            "Requirement already satisfied: llvmlite<0.40,>=0.39.0dev0 in /usr/local/lib/python3.8/dist-packages (from numba>=0.44->pycox) (0.39.1)\n",
            "Requirement already satisfied: importlib-metadata in /usr/local/lib/python3.8/dist-packages (from numba>=0.44->pycox) (5.1.0)\n",
            "Requirement already satisfied: psutil in /usr/local/lib/python3.8/dist-packages (from py7zr>=0.11.3->pycox) (5.4.8)\n",
            "Collecting texttable\n",
            "  Downloading texttable-1.6.7-py2.py3-none-any.whl (10 kB)\n",
            "Collecting multivolumefile>=0.2.3\n",
            "  Downloading multivolumefile-0.2.3-py3-none-any.whl (17 kB)\n",
            "Collecting inflate64>=0.3.1\n",
            "  Downloading inflate64-0.3.1-cp38-cp38-manylinux_2_17_x86_64.manylinux2014_x86_64.whl (94 kB)\n",
            "\u001b[K     |████████████████████████████████| 94 kB 3.0 MB/s \n",
            "\u001b[?25hCollecting pyppmd<1.1.0,>=0.18.1\n",
            "  Downloading pyppmd-1.0.0-cp38-cp38-manylinux_2_17_x86_64.manylinux2014_x86_64.whl (139 kB)\n",
            "\u001b[K     |████████████████████████████████| 139 kB 64.7 MB/s \n",
            "\u001b[?25hCollecting pybcj>=0.6.0\n",
            "  Downloading pybcj-1.0.1-cp38-cp38-manylinux_2_17_x86_64.manylinux2014_x86_64.whl (50 kB)\n",
            "\u001b[K     |████████████████████████████████| 50 kB 6.2 MB/s \n",
            "\u001b[?25hCollecting brotli>=1.0.9\n",
            "  Downloading Brotli-1.0.9-cp38-cp38-manylinux1_x86_64.whl (357 kB)\n",
            "\u001b[K     |████████████████████████████████| 357 kB 58.2 MB/s \n",
            "\u001b[?25hCollecting pycryptodomex>=3.6.6\n",
            "  Downloading pycryptodomex-3.16.0-cp35-abi3-manylinux_2_5_x86_64.manylinux1_x86_64.manylinux_2_12_x86_64.manylinux2010_x86_64.whl (2.3 MB)\n",
            "\u001b[K     |████████████████████████████████| 2.3 MB 35.9 MB/s \n",
            "\u001b[?25hCollecting pyzstd>=0.14.4\n",
            "  Downloading pyzstd-0.15.3-cp38-cp38-manylinux_2_17_x86_64.manylinux2014_x86_64.whl (378 kB)\n",
            "\u001b[K     |████████████████████████████████| 378 kB 60.7 MB/s \n",
            "\u001b[?25hRequirement already satisfied: idna<3,>=2.5 in /usr/local/lib/python3.8/dist-packages (from requests>=2.22.0->pycox) (2.10)\n",
            "Requirement already satisfied: urllib3!=1.25.0,!=1.25.1,<1.26,>=1.21.1 in /usr/local/lib/python3.8/dist-packages (from requests>=2.22.0->pycox) (1.24.3)\n",
            "Requirement already satisfied: chardet<4,>=3.0.2 in /usr/local/lib/python3.8/dist-packages (from requests>=2.22.0->pycox) (3.0.4)\n",
            "Requirement already satisfied: certifi>=2017.4.17 in /usr/local/lib/python3.8/dist-packages (from requests>=2.22.0->pycox) (2022.12.7)\n",
            "Requirement already satisfied: joblib>=0.11 in /usr/local/lib/python3.8/dist-packages (from scikit-learn>=0.21.2->pycox) (1.2.0)\n",
            "Requirement already satisfied: threadpoolctl>=2.0.0 in /usr/local/lib/python3.8/dist-packages (from scikit-learn>=0.21.2->pycox) (3.1.0)\n",
            "Requirement already satisfied: scipy>=1.1.0 in /usr/local/lib/python3.8/dist-packages (from scikit-learn>=0.21.2->pycox) (1.7.3)\n",
            "Requirement already satisfied: matplotlib>=3.0.3 in /usr/local/lib/python3.8/dist-packages (from torchtuples>=0.2.0->pycox) (3.2.2)\n",
            "Requirement already satisfied: pandas>=0.24.2 in /usr/local/lib/python3.8/dist-packages (from torchtuples>=0.2.0->pycox) (1.3.5)\n",
            "Requirement already satisfied: cycler>=0.10 in /usr/local/lib/python3.8/dist-packages (from matplotlib>=3.0.3->torchtuples>=0.2.0->pycox) (0.11.0)\n",
            "Requirement already satisfied: kiwisolver>=1.0.1 in /usr/local/lib/python3.8/dist-packages (from matplotlib>=3.0.3->torchtuples>=0.2.0->pycox) (1.4.4)\n",
            "Requirement already satisfied: pyparsing!=2.0.4,!=2.1.2,!=2.1.6,>=2.0.1 in /usr/local/lib/python3.8/dist-packages (from matplotlib>=3.0.3->torchtuples>=0.2.0->pycox) (3.0.9)\n",
            "Requirement already satisfied: python-dateutil>=2.1 in /usr/local/lib/python3.8/dist-packages (from matplotlib>=3.0.3->torchtuples>=0.2.0->pycox) (2.8.2)\n",
            "Requirement already satisfied: pytz>=2017.3 in /usr/local/lib/python3.8/dist-packages (from pandas>=0.24.2->torchtuples>=0.2.0->pycox) (2022.6)\n",
            "Requirement already satisfied: six>=1.5 in /usr/local/lib/python3.8/dist-packages (from python-dateutil>=2.1->matplotlib>=3.0.3->torchtuples>=0.2.0->pycox) (1.15.0)\n",
            "Requirement already satisfied: zipp>=0.5 in /usr/local/lib/python3.8/dist-packages (from importlib-metadata->numba>=0.44->pycox) (3.11.0)\n",
            "Installing collected packages: texttable, pyzstd, pyppmd, pycryptodomex, pybcj, multivolumefile, inflate64, brotli, torchtuples, py7zr, pycox\n",
            "Successfully installed brotli-1.0.9 inflate64-0.3.1 multivolumefile-0.2.3 py7zr-0.20.2 pybcj-1.0.1 pycox-0.2.3 pycryptodomex-3.16.0 pyppmd-1.0.0 pyzstd-0.15.3 texttable-1.6.7 torchtuples-0.2.2\n",
            "Looking in indexes: https://pypi.org/simple, https://us-python.pkg.dev/colab-wheels/public/simple/\n",
            "Requirement already satisfied: torchtuples in /usr/local/lib/python3.8/dist-packages (0.2.2)\n",
            "Requirement already satisfied: pandas>=0.24.2 in /usr/local/lib/python3.8/dist-packages (from torchtuples) (1.3.5)\n",
            "Requirement already satisfied: matplotlib>=3.0.3 in /usr/local/lib/python3.8/dist-packages (from torchtuples) (3.2.2)\n",
            "Requirement already satisfied: numpy>=1.15.4 in /usr/local/lib/python3.8/dist-packages (from torchtuples) (1.21.6)\n",
            "Requirement already satisfied: kiwisolver>=1.0.1 in /usr/local/lib/python3.8/dist-packages (from matplotlib>=3.0.3->torchtuples) (1.4.4)\n",
            "Requirement already satisfied: pyparsing!=2.0.4,!=2.1.2,!=2.1.6,>=2.0.1 in /usr/local/lib/python3.8/dist-packages (from matplotlib>=3.0.3->torchtuples) (3.0.9)\n",
            "Requirement already satisfied: python-dateutil>=2.1 in /usr/local/lib/python3.8/dist-packages (from matplotlib>=3.0.3->torchtuples) (2.8.2)\n",
            "Requirement already satisfied: cycler>=0.10 in /usr/local/lib/python3.8/dist-packages (from matplotlib>=3.0.3->torchtuples) (0.11.0)\n",
            "Requirement already satisfied: pytz>=2017.3 in /usr/local/lib/python3.8/dist-packages (from pandas>=0.24.2->torchtuples) (2022.6)\n",
            "Requirement already satisfied: six>=1.5 in /usr/local/lib/python3.8/dist-packages (from python-dateutil>=2.1->matplotlib>=3.0.3->torchtuples) (1.15.0)\n",
            "Looking in indexes: https://pypi.org/simple, https://us-python.pkg.dev/colab-wheels/public/simple/\n",
            "Collecting lifelines\n",
            "  Downloading lifelines-0.27.4-py3-none-any.whl (349 kB)\n",
            "\u001b[K     |████████████████████████████████| 349 kB 5.0 MB/s \n",
            "\u001b[?25hRequirement already satisfied: numpy>=1.14.0 in /usr/local/lib/python3.8/dist-packages (from lifelines) (1.21.6)\n",
            "Requirement already satisfied: matplotlib>=3.0 in /usr/local/lib/python3.8/dist-packages (from lifelines) (3.2.2)\n",
            "Requirement already satisfied: pandas>=1.0.0 in /usr/local/lib/python3.8/dist-packages (from lifelines) (1.3.5)\n",
            "Requirement already satisfied: autograd>=1.5 in /usr/local/lib/python3.8/dist-packages (from lifelines) (1.5)\n",
            "Collecting autograd-gamma>=0.3\n",
            "  Downloading autograd-gamma-0.5.0.tar.gz (4.0 kB)\n",
            "Collecting formulaic>=0.2.2\n",
            "  Downloading formulaic-0.5.2-py3-none-any.whl (77 kB)\n",
            "\u001b[K     |████████████████████████████████| 77 kB 5.4 MB/s \n",
            "\u001b[?25hRequirement already satisfied: scipy>=1.2.0 in /usr/local/lib/python3.8/dist-packages (from lifelines) (1.7.3)\n",
            "Requirement already satisfied: future>=0.15.2 in /usr/local/lib/python3.8/dist-packages (from autograd>=1.5->lifelines) (0.16.0)\n",
            "Collecting interface-meta>=1.2.0\n",
            "  Downloading interface_meta-1.3.0-py3-none-any.whl (14 kB)\n",
            "Requirement already satisfied: typing-extensions>=4.2.0 in /usr/local/lib/python3.8/dist-packages (from formulaic>=0.2.2->lifelines) (4.4.0)\n",
            "Collecting graphlib-backport>=1.0.0\n",
            "  Downloading graphlib_backport-1.0.3-py3-none-any.whl (5.1 kB)\n",
            "Requirement already satisfied: astor>=0.8 in /usr/local/lib/python3.8/dist-packages (from formulaic>=0.2.2->lifelines) (0.8.1)\n",
            "Requirement already satisfied: wrapt>=1.0 in /usr/local/lib/python3.8/dist-packages (from formulaic>=0.2.2->lifelines) (1.14.1)\n",
            "Requirement already satisfied: python-dateutil>=2.1 in /usr/local/lib/python3.8/dist-packages (from matplotlib>=3.0->lifelines) (2.8.2)\n",
            "Requirement already satisfied: kiwisolver>=1.0.1 in /usr/local/lib/python3.8/dist-packages (from matplotlib>=3.0->lifelines) (1.4.4)\n",
            "Requirement already satisfied: pyparsing!=2.0.4,!=2.1.2,!=2.1.6,>=2.0.1 in /usr/local/lib/python3.8/dist-packages (from matplotlib>=3.0->lifelines) (3.0.9)\n",
            "Requirement already satisfied: cycler>=0.10 in /usr/local/lib/python3.8/dist-packages (from matplotlib>=3.0->lifelines) (0.11.0)\n",
            "Requirement already satisfied: pytz>=2017.3 in /usr/local/lib/python3.8/dist-packages (from pandas>=1.0.0->lifelines) (2022.6)\n",
            "Requirement already satisfied: six>=1.5 in /usr/local/lib/python3.8/dist-packages (from python-dateutil>=2.1->matplotlib>=3.0->lifelines) (1.15.0)\n",
            "Building wheels for collected packages: autograd-gamma\n",
            "  Building wheel for autograd-gamma (setup.py) ... \u001b[?25l\u001b[?25hdone\n",
            "  Created wheel for autograd-gamma: filename=autograd_gamma-0.5.0-py3-none-any.whl size=4048 sha256=c7c3040955e8d2547490aef811d472242fbfe6e4e7233e7af73bd689412bc078\n",
            "  Stored in directory: /root/.cache/pip/wheels/16/a2/b6/582cfdfbeeccd469504a01af3bb952fd9e7eccba40995eafea\n",
            "Successfully built autograd-gamma\n",
            "Installing collected packages: interface-meta, graphlib-backport, formulaic, autograd-gamma, lifelines\n",
            "Successfully installed autograd-gamma-0.5.0 formulaic-0.5.2 graphlib-backport-1.0.3 interface-meta-1.3.0 lifelines-0.27.4\n"
          ]
        }
      ]
    },
    {
      "cell_type": "code",
      "source": [
        "import pydicom as di \n",
        "import os\n",
        "from os import listdir\n",
        "import matplotlib.pyplot as plt\n",
        "import numpy as np\n",
        "import pandas as pd\n",
        "from sklearn.model_selection import train_test_split\n",
        "import torch\n",
        "from skimage.transform import resize\n",
        "from subprocess import call\n",
        "import re\n",
        "from functools import reduce\n",
        "import shutil\n",
        "import nibabel as nib\n",
        "from PIL import Image\n",
        "import torch\n",
        "import torchvision.transforms as transforms\n",
        "\n",
        "from torch.nn import Module\n",
        "from torch.nn import Conv2d\n",
        "from torch.nn import Linear\n",
        "from torch.nn import MaxPool2d\n",
        "from torch.nn import ReLU\n",
        "from torch.nn import LogSoftmax\n",
        "from torch import flatten\n",
        "\n",
        "from sklearn.preprocessing import StandardScaler\n",
        "from sklearn_pandas import DataFrameMapper \n",
        "import torchtuples as tt\n",
        "from pycox.datasets import metabric\n",
        "from pycox.models import DeepHitSingle\n",
        "from pycox.evaluation import EvalSurv\n",
        "\n",
        "\n",
        "import scipy.io\n",
        "\n",
        "\n",
        "\n",
        "import sys, os, datetime, h5py\n",
        "import numpy as np\n",
        "from scipy import io\n",
        "import pandas as pd\n",
        "from matplotlib import pyplot\n",
        "import tensorflow as tf\n",
        "from tensorflow.keras.models import Model, model_from_json\n",
        "from tensorflow.keras.layers import Input,InputLayer, Dense,  Dropout, Activation, Concatenate, Lambda\n",
        "#from tensorflow.python.keras.summary import merge\n",
        "# from tensorflow.keras.utils import plot_model, multi_gpu_model\n",
        "from tensorflow.keras.callbacks import CSVLogger, LearningRateScheduler, ModelCheckpoint, EarlyStopping\n",
        "from tensorflow.keras import backend as K\n",
        "from tensorflow.keras import regularizers\n",
        "from functools import partial, update_wrapper\n",
        "from tensorflow.keras import optimizers\n",
        "\n",
        "from sklearn.preprocessing import StandardScaler\n",
        "\n",
        "from lifelines.utils import concordance_index\n",
        "\n",
        "\n",
        "import nipype.interfaces.fsl as fsl\n",
        "\n",
        "\n",
        "from nipype.interfaces import fsl\n",
        "from nipype.testing import example_data"
      ],
      "metadata": {
        "id": "QPIlAWgmowwM"
      },
      "execution_count": null,
      "outputs": []
    },
    {
      "cell_type": "markdown",
      "metadata": {
        "id": "F7hAhpFTvvSd"
      },
      "source": [
        "# Metadata"
      ]
    },
    {
      "cell_type": "code",
      "execution_count": null,
      "metadata": {
        "id": "37VJslNEvxqq"
      },
      "outputs": [],
      "source": [
        "metadata0 = pd.read_csv('/content/gdrive/MyDrive/dataset/Survival/Year0/healthy_and_ad_patient_0_12_01_2022.csv', sep=',', header=0)\n",
        "metadata1 = pd.read_csv('/content/gdrive/MyDrive/dataset/Survival/Year1/healthy_and_ad_patient_1_12_01_2022.csv', sep=',', header=0)\n",
        "metadata2 = pd.read_csv('/content/gdrive/MyDrive/dataset/Survival/Year2/healthy_and_ad_patient_2_12_01_2022.csv', sep=',', header=0)\n",
        "metadata3 = pd.read_csv('/content/gdrive/MyDrive/dataset/Survival/Year3/healty_and_ad_patient_3_12_01_2022.csv', sep=',', header=0)\n",
        "metadata4 = pd.read_csv('/content/gdrive/MyDrive/dataset/Survival/Year4/healthy_and_ad_patient_4_12_01_2022.csv', sep=',', header=0)\n",
        "metadata5 = pd.read_csv('/content/gdrive/MyDrive/dataset/Survival/Year5/heathy_and_ad_patient_5_12_01_2022.csv', sep=',', header=0)"
      ]
    },
    {
      "cell_type": "code",
      "source": [
        "genetic_data=pd.read_csv('/content/content/ADNIGenetic.csv')"
      ],
      "metadata": {
        "id": "sD9ltjqGv-KI"
      },
      "execution_count": null,
      "outputs": []
    },
    {
      "cell_type": "code",
      "source": [
        "path='/content/content/ADNI'"
      ],
      "metadata": {
        "id": "JHXx9aWuvlpd"
      },
      "execution_count": null,
      "outputs": []
    },
    {
      "cell_type": "code",
      "execution_count": null,
      "metadata": {
        "colab": {
          "base_uri": "https://localhost:8080/"
        },
        "id": "lf9e7aalEsrt",
        "outputId": "d8e6521c-f983-4e2a-ffda-93ffea9ec0e2"
      },
      "outputs": [
        {
          "data": {
            "text/plain": [
              "327"
            ]
          },
          "execution_count": 114,
          "metadata": {},
          "output_type": "execute_result"
        }
      ],
      "source": [
        "len(os.listdir(path))"
      ]
    },
    {
      "cell_type": "markdown",
      "metadata": {
        "id": "bwXH5vySVuyp"
      },
      "source": [
        "# Convert DCM Images"
      ]
    },
    {
      "cell_type": "code",
      "execution_count": null,
      "metadata": {
        "colab": {
          "base_uri": "https://localhost:8080/"
        },
        "id": "K8UFanBPV9gp",
        "outputId": "b22c6122-742a-49d7-9328-3da39b341ab4"
      },
      "outputs": [
        {
          "name": "stdout",
          "output_type": "stream",
          "text": [
            "0\n"
          ]
        }
      ],
      "source": [
        "count=0\n",
        "for dirs in os.listdir(path):\n",
        "  dirName=os.path.join(path,dirs)\n",
        "  for v in os.listdir(dirName):\n",
        "    subDir=os.path.join(dirName,v)\n",
        "    # print(subDir)\n",
        "    call([\"dcm2niix\",\"-z\",\"y\", \"-v\", \"y\", \"-m\", \"y\" , subDir])\n",
        "    # for files in os.listdir(subDir):\n",
        "    #   count+=1\n",
        "    # if \".gz\" in files.lower():\n",
        "    #   os.remove(os.path.join(dirName, files))\n",
        "\n"
      ]
    },
    {
      "cell_type": "code",
      "source": [],
      "metadata": {
        "id": "SWyossBKNgD_"
      },
      "execution_count": null,
      "outputs": []
    },
    {
      "cell_type": "markdown",
      "source": [
        "# Feature extraction "
      ],
      "metadata": {
        "id": "uKYRgMh7OJQQ"
      }
    },
    {
      "cell_type": "code",
      "execution_count": null,
      "metadata": {
        "id": "NCyHtahdG3Zw"
      },
      "outputs": [],
      "source": [
        "data=[]\n",
        "for p in covariates:\n",
        "  features=[]\n",
        "  for v in os.listdir(os.path.join(path,p)):\n",
        "    vis=os.path.join(os.path.join(path,p),v)\n",
        "    for fileName in os.listdir(os.path.join(os.path.join(path,p),v)):\n",
        "      if '.nii.gz' in fileName.lower():\n",
        "        tensor=convertDCM2Tensor(os.path.join(vis, fileName))\n",
        "        feature=feature_extractor(tensor.unsqueeze(0))\n",
        "        feature=feature.squeeze()\n",
        "        feature=torch.flatten(feature)\n",
        "        # print(feature.shape)\n",
        "        features.append(feature.numpy())\n",
        "        break\n",
        "  while len(features) < 5:\n",
        "    features.append(features[-1])\n",
        "  data.append(np.array(features).flatten())\n",
        "  \n",
        "  \n",
        "    \n",
        "\n",
        "\n",
        "\n",
        "\n"
      ]
    },
    {
      "cell_type": "markdown",
      "source": [
        "# FSL - Grey Matter"
      ],
      "metadata": {
        "id": "qkhgMfk9OoYF"
      }
    },
    {
      "cell_type": "code",
      "source": [],
      "metadata": {
        "id": "fgsl9XN6Oq28"
      },
      "execution_count": null,
      "outputs": []
    },
    {
      "cell_type": "code",
      "execution_count": null,
      "metadata": {
        "id": "NS5Ey6tYtqHw"
      },
      "outputs": [],
      "source": [
        "import os\n",
        "\n",
        "!sudo apt -qq install file\n",
        "!wget https://fsl.fmrib.ox.ac.uk/fsldownloads/fslinstaller.py\n",
        "!python2 fslinstaller.py\n",
        "\n",
        "fslpath = \"/usr/local/fsl\"\n",
        "os.environ[\"FSLDIR\"] = fslpath\n",
        "os.environ[\"PATH\"] += os.pathsep + os.path.join(fslpath, 'bin')\n",
        "!. ${FSLDIR}/etc/fslconf/fsl.sh\n",
        "\n",
        "!flirt -version\n",
        "     \n"
      ]
    },
    {
      "cell_type": "code",
      "execution_count": null,
      "metadata": {
        "id": "-3BtCW4UuBWU",
        "colab": {
          "base_uri": "https://localhost:8080/"
        },
        "outputId": "46333689-be26-4495-cef8-115fc1241470"
      },
      "outputs": [
        {
          "output_type": "stream",
          "name": "stdout",
          "text": [
            "FLIRT version 6.0\n"
          ]
        }
      ],
      "source": [
        "fslpath = \"/content/fsl\"\n",
        "os.environ[\"FSLDIR\"] = fslpath\n",
        "os.environ[\"PATH\"] += os.pathsep + os.path.join(fslpath, 'bin')\n",
        "!. ${FSLDIR}/etc/fslconf/fsl.sh\n",
        "\n",
        "!flirt -version"
      ]
    },
    {
      "cell_type": "code",
      "execution_count": null,
      "metadata": {
        "colab": {
          "base_uri": "https://localhost:8080/"
        },
        "id": "Kl1GYVwPs1UB",
        "outputId": "78fcb756-2dde-416b-8cea-471ebab86bae"
      },
      "outputs": [
        {
          "output_type": "stream",
          "name": "stdout",
          "text": [
            "0\n"
          ]
        }
      ],
      "source": [
        "path='/content/content/ADNI'\n",
        "count=0\n",
        "for p in os.listdir(path):\n",
        "  if \".ipynb\" in p:\n",
        "    continue\n",
        "  for i,v in enumerate(sorted(os.listdir(os.path.join(path,p)))):\n",
        "    # print(p,v)\n",
        "    if len(v) != 1:\n",
        "      continue\n",
        "    vis=os.path.join(os.path.join(path,p), v)\n",
        "    if 'bet.nii' in os.listdir(vis):\n",
        "      continue\n",
        "    for fileName in os.listdir(vis):\n",
        "      if '.nii.gz' in fileName.lower():\n",
        "        print(os.path.join(vis, fileName))\n",
        "        btr = fsl.BET()\n",
        "        btr.inputs.in_file = os.path.join(vis, fileName)\n",
        "        btr.inputs.out_file = os.path.join(vis, \"bet.nii\")\n",
        "        btr.inputs.frac = 0.7\n",
        "        res = btr.run() \n",
        "        count+=1\n",
        "        break\n",
        "print(count)\n",
        "\n",
        "\n",
        "# btr = fsl.BET()\n",
        "# btr.inputs.in_file = \"/content/content/ADNI/003_S_4119/2/2_3_Plane_Localizer_20191029110040_1_i00003.nii.gz\"\n",
        "# btr.inputs.out_file = \"/content/content/ADNI/003_S_4119/2/seg3.nii\"\n",
        "# btr.inputs.frac = 0.7\n",
        "# res = btr.run() "
      ]
    },
    {
      "cell_type": "code",
      "source": [
        "from nipype.interfaces import fsl\n",
        "from nipype.testing import example_data\n",
        "\n",
        "path='/content/content/ADNI'\n",
        "count=0\n",
        "for p in os.listdir(path):\n",
        "  if \".ipynb\" in p:\n",
        "    continue\n",
        "  for i,v in enumerate(sorted(os.listdir(os.path.join(path,p)))):\n",
        "    # print(p,v)\n",
        "    if len(v) != 1:\n",
        "      continue\n",
        "    vis=os.path.join(os.path.join(path,p), v)\n",
        "    if \"bet_pve_2.nii\" in os.listdir(vis):\n",
        "      continue\n",
        "    for fileName in os.listdir(vis):\n",
        "      if 'bet.nii' ==  fileName.lower():\n",
        "        print(os.path.join(vis, fileName))\n",
        "        fastr = fsl.FAST()\n",
        "        fastr.inputs.in_files = os.path.join(vis, \"bet.nii\")\n",
        "# fastr.inputs.out_basename=\"test2\"\n",
        "        out=fastr.run() \n",
        "        count+=1\n",
        "        break\n",
        "print(count)\n",
        "\n"
      ],
      "metadata": {
        "id": "5JDt0XpPqRwC"
      },
      "execution_count": null,
      "outputs": []
    },
    {
      "cell_type": "code",
      "source": [],
      "metadata": {
        "id": "DytQ_cnfO-U7"
      },
      "execution_count": null,
      "outputs": []
    },
    {
      "cell_type": "code",
      "source": [
        "data=[]\n",
        "\n",
        "for p in covariates:\n",
        "  features=[]\n",
        "  gmv=[]\n",
        "  for v in os.listdir(os.path.join(path,p)):\n",
        "    vis=os.path.join(os.path.join(path,p),v)\n",
        "    for fileName in os.listdir(os.path.join(os.path.join(path,p),v)):\n",
        "      if 'bet_pve_2.nii' in fileName.lower():\n",
        "\n",
        "        m=subprocess.run([\"fslstats\",os.path.join(vis,fileName),'-m'],stdout=subprocess.PIPE)\n",
        "        m=m.stdout.decode('utf-8').strip()\n",
        "        v=subprocess.run([\"fslstats\",os.path.join(vis,fileName),'-v'],stdout=subprocess.PIPE)\n",
        "        v=v.stdout.decode('utf-8').split()[0].strip()\n",
        "        # print(m,v)\n",
        "        mult=float(m)*float(v)\n",
        "        gmv.append(mult)\n",
        "        break\n",
        "  \n",
        "  gmv=np.array(gmv)\n",
        "  \n",
        "  "
      ],
      "metadata": {
        "id": "fJJCJmUVJjvj"
      },
      "execution_count": null,
      "outputs": []
    }
  ]
}